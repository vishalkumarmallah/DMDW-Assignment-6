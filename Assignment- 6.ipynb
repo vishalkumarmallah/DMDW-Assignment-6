{
 "cells": [
  {
   "cell_type": "code",
   "execution_count": 13,
   "id": "a3ea9111",
   "metadata": {},
   "outputs": [],
   "source": [
    "from numpy import*"
   ]
  },
  {
   "cell_type": "code",
   "execution_count": 14,
   "id": "f91171e9",
   "metadata": {},
   "outputs": [],
   "source": [
    "def loadDataset():\n",
    "    return[['M','O','N','K','E','Y'],['D','O','N','K','E','Y'],['M','A','K','E'],['M','U','C','K','E','Y'],['C','O','O','K','I','E']]"
   ]
  },
  {
   "cell_type": "code",
   "execution_count": 15,
   "id": "b0d153e4",
   "metadata": {},
   "outputs": [],
   "source": [
    "def createC1(dataSet):\n",
    "    C1=[]\n",
    "    for transaction in dataSet:\n",
    "        for iteam in transaction:\n",
    "            if not [iteam] in C1:\n",
    "             C1.append([iteam])\n",
    "        C1.sort()\n",
    "    return list(map(frozenset,C1))"
   ]
  },
  {
   "cell_type": "code",
   "execution_count": 16,
   "id": "f7764236",
   "metadata": {},
   "outputs": [],
   "source": [
    "def scanD(D,Ck,minSupport):\n",
    "   ssCnt={}\n",
    "   for tid in D:\n",
    "      for can in Ck:\n",
    "        if can.issubset(tid):\n",
    "            if not can in ssCnt:\n",
    "                 ssCnt[can]=1\n",
    "            else:\n",
    "                 ssCnt[can]+=1\n",
    "   numItems=float(len(D))\n",
    "   retList=[]\n",
    "   supportData={}\n",
    "   for key in ssCnt:\n",
    "        support=ssCnt[key]/numItems\n",
    "        if support>=minSupport:\n",
    "             retList.insert(0,key)\n",
    "        supportData[key]=support\n",
    "   return retList,supportData"
   ]
  },
  {
   "cell_type": "code",
   "execution_count": 17,
   "id": "fc6e8fdf",
   "metadata": {},
   "outputs": [
    {
     "data": {
      "text/plain": [
       "[['M', 'O', 'N', 'K', 'E', 'Y'],\n",
       " ['D', 'O', 'N', 'K', 'E', 'Y'],\n",
       " ['M', 'A', 'K', 'E'],\n",
       " ['M', 'U', 'C', 'K', 'E', 'Y'],\n",
       " ['C', 'O', 'O', 'K', 'I', 'E']]"
      ]
     },
     "execution_count": 17,
     "metadata": {},
     "output_type": "execute_result"
    }
   ],
   "source": [
    "dataSet=loadDataset()\n",
    "dataSet"
   ]
  },
  {
   "cell_type": "code",
   "execution_count": 18,
   "id": "350f3e99",
   "metadata": {},
   "outputs": [
    {
     "data": {
      "text/plain": [
       "[frozenset({'A'}),\n",
       " frozenset({'C'}),\n",
       " frozenset({'D'}),\n",
       " frozenset({'E'}),\n",
       " frozenset({'I'}),\n",
       " frozenset({'K'}),\n",
       " frozenset({'M'}),\n",
       " frozenset({'N'}),\n",
       " frozenset({'O'}),\n",
       " frozenset({'U'}),\n",
       " frozenset({'Y'})]"
      ]
     },
     "execution_count": 18,
     "metadata": {},
     "output_type": "execute_result"
    }
   ],
   "source": [
    "C1=createC1(dataSet)\n",
    "C1"
   ]
  },
  {
   "cell_type": "code",
   "execution_count": 19,
   "id": "6f35e000",
   "metadata": {},
   "outputs": [],
   "source": [
    "D=list(map(set,dataSet))"
   ]
  },
  {
   "cell_type": "code",
   "execution_count": 20,
   "id": "1d63b35c",
   "metadata": {},
   "outputs": [
    {
     "data": {
      "text/plain": [
       "[{'E', 'K', 'M', 'N', 'O', 'Y'},\n",
       " {'D', 'E', 'K', 'N', 'O', 'Y'},\n",
       " {'A', 'E', 'K', 'M'},\n",
       " {'C', 'E', 'K', 'M', 'U', 'Y'},\n",
       " {'C', 'E', 'I', 'K', 'O'}]"
      ]
     },
     "execution_count": 20,
     "metadata": {},
     "output_type": "execute_result"
    }
   ],
   "source": [
    "D"
   ]
  },
  {
   "cell_type": "code",
   "execution_count": 21,
   "id": "b5c07f7b",
   "metadata": {},
   "outputs": [
    {
     "data": {
      "text/plain": [
       "[frozenset({'Y'}),\n",
       " frozenset({'O'}),\n",
       " frozenset({'M'}),\n",
       " frozenset({'K'}),\n",
       " frozenset({'E'})]"
      ]
     },
     "execution_count": 21,
     "metadata": {},
     "output_type": "execute_result"
    }
   ],
   "source": [
    "L1,suppDat0=scanD(D,C1,0.6)\n",
    "L1"
   ]
  },
  {
   "cell_type": "code",
   "execution_count": 22,
   "id": "7a7f348a",
   "metadata": {},
   "outputs": [],
   "source": [
    "def aprioriGen(Lk, k): #creates Ck\n",
    "    retList = []\n",
    "    lenLk = len(Lk)\n",
    "    for i in range(lenLk):\n",
    "        for j in range(i+1, lenLk): \n",
    "            L1 = list(Lk[i])[:k-2]; L2 = list(Lk[j])[:k-2]\n",
    "            L1.sort(); L2.sort()\n",
    "            if L1==L2: \n",
    "                retList.append(Lk[i] | Lk[j]) \n",
    "    return retList "
   ]
  },
  {
   "cell_type": "code",
   "execution_count": 23,
   "id": "ea5351c0",
   "metadata": {},
   "outputs": [],
   "source": [
    "def apriori(dataSet, minSupport = 0.6):\n",
    "    C1 = createC1(dataSet)\n",
    "    D = list(map(set, dataSet))\n",
    "    L1, supportData = scanD(D, C1, minSupport)\n",
    "    L = [L1]\n",
    "    k = 2\n",
    "    while (len(L[k-2]) > 0):\n",
    "        Ck = aprioriGen(L[k-2], k)\n",
    "        Lk, supK = scanD(D, Ck, minSupport)#scan DB to get Lk\n",
    "        supportData.update(supK)\n",
    "        L.append(Lk)\n",
    "        k += 1\n",
    "    return L, supportData"
   ]
  },
  {
   "cell_type": "code",
   "execution_count": 24,
   "id": "795e653b",
   "metadata": {},
   "outputs": [],
   "source": [
    "L,suppData=apriori(dataSet)"
   ]
  },
  {
   "cell_type": "code",
   "execution_count": 25,
   "id": "b6c4d42a",
   "metadata": {},
   "outputs": [
    {
     "data": {
      "text/plain": [
       "[[frozenset({'Y'}),\n",
       "  frozenset({'O'}),\n",
       "  frozenset({'M'}),\n",
       "  frozenset({'K'}),\n",
       "  frozenset({'E'})],\n",
       " [frozenset({'E', 'K'}),\n",
       "  frozenset({'E', 'M'}),\n",
       "  frozenset({'K', 'M'}),\n",
       "  frozenset({'E', 'O'}),\n",
       "  frozenset({'K', 'O'}),\n",
       "  frozenset({'E', 'Y'}),\n",
       "  frozenset({'K', 'Y'})],\n",
       " [frozenset({'E', 'K', 'Y'}),\n",
       "  frozenset({'E', 'K', 'O'}),\n",
       "  frozenset({'E', 'K', 'M'})],\n",
       " []]"
      ]
     },
     "execution_count": 25,
     "metadata": {},
     "output_type": "execute_result"
    }
   ],
   "source": [
    "L"
   ]
  },
  {
   "cell_type": "code",
   "execution_count": 26,
   "id": "e9e63f1c",
   "metadata": {},
   "outputs": [
    {
     "data": {
      "text/plain": [
       "[frozenset({'Y'}),\n",
       " frozenset({'O'}),\n",
       " frozenset({'M'}),\n",
       " frozenset({'K'}),\n",
       " frozenset({'E'})]"
      ]
     },
     "execution_count": 26,
     "metadata": {},
     "output_type": "execute_result"
    }
   ],
   "source": [
    "L[0]\n"
   ]
  },
  {
   "cell_type": "code",
   "execution_count": 27,
   "id": "4dd4e033",
   "metadata": {},
   "outputs": [
    {
     "data": {
      "text/plain": [
       "[frozenset({'E', 'K'}),\n",
       " frozenset({'E', 'M'}),\n",
       " frozenset({'K', 'M'}),\n",
       " frozenset({'E', 'O'}),\n",
       " frozenset({'K', 'O'}),\n",
       " frozenset({'E', 'Y'}),\n",
       " frozenset({'K', 'Y'})]"
      ]
     },
     "execution_count": 27,
     "metadata": {},
     "output_type": "execute_result"
    }
   ],
   "source": [
    "L[1]"
   ]
  },
  {
   "cell_type": "code",
   "execution_count": 28,
   "id": "0cd2a246",
   "metadata": {},
   "outputs": [
    {
     "data": {
      "text/plain": [
       "[frozenset({'E', 'K', 'Y'}),\n",
       " frozenset({'E', 'K', 'O'}),\n",
       " frozenset({'E', 'K', 'M'})]"
      ]
     },
     "execution_count": 28,
     "metadata": {},
     "output_type": "execute_result"
    }
   ],
   "source": [
    "L[2]"
   ]
  },
  {
   "cell_type": "code",
   "execution_count": 35,
   "id": "3bd3dc58",
   "metadata": {},
   "outputs": [
    {
     "data": {
      "text/plain": [
       "[]"
      ]
     },
     "execution_count": 35,
     "metadata": {},
     "output_type": "execute_result"
    }
   ],
   "source": [
    "L[3]"
   ]
  },
  {
   "cell_type": "code",
   "execution_count": 29,
   "id": "4078b28b",
   "metadata": {},
   "outputs": [
    {
     "data": {
      "text/plain": [
       "[frozenset({'O', 'Y'}),\n",
       " frozenset({'M', 'Y'}),\n",
       " frozenset({'K', 'Y'}),\n",
       " frozenset({'E', 'Y'}),\n",
       " frozenset({'M', 'O'}),\n",
       " frozenset({'K', 'O'}),\n",
       " frozenset({'E', 'O'}),\n",
       " frozenset({'K', 'M'}),\n",
       " frozenset({'E', 'M'}),\n",
       " frozenset({'E', 'K'})]"
      ]
     },
     "execution_count": 29,
     "metadata": {},
     "output_type": "execute_result"
    }
   ],
   "source": [
    "aprioriGen(L[0],2)"
   ]
  },
  {
   "cell_type": "code",
   "execution_count": 30,
   "id": "a474fd33",
   "metadata": {},
   "outputs": [],
   "source": [
    "def generateRules(L,supportData,minConf=0.7):\n",
    " bigRuleList=[]\n",
    " for i in range(1,len(L)):\n",
    "  for freqSet in L[i]:\n",
    "    H1=[frozenset([item])for item in freqSet]\n",
    "    if(i>1):\n",
    "     rulesFromConseq(freqSet,H1,supportData,bigRuleList,minConf)\n",
    "    else:\n",
    "     calcConf(freqSet,H1,supportData,bigRuleList,minConf)\n",
    " return bigRuleList\n"
   ]
  },
  {
   "cell_type": "code",
   "execution_count": 31,
   "id": "42f21726",
   "metadata": {},
   "outputs": [],
   "source": [
    "def calcConf(freqSet,H,supportData,brl,minConf=0.7):\n",
    " prunedH=[]\n",
    " for conseq in H:\n",
    "  conf=supportData[freqSet]/supportData[freqSet-conseq]\n",
    "  if conf>=minConf:\n",
    "   print(freqSet-conseq,'-->',conseq,'conf:',conf)\n",
    "   brl.append((freqSet-conseq,conseq,conf))\n",
    "   prunedH.append(conseq)\n",
    " return prunedH"
   ]
  },
  {
   "cell_type": "code",
   "execution_count": 32,
   "id": "116ecae5",
   "metadata": {},
   "outputs": [],
   "source": [
    "def rulesFromConseq(freqSet,H,supportData,brl,minConf=0.7):\n",
    " m=len(H[0])\n",
    " if(len(freqSet)>(m+1)):\n",
    "  Hmp1=aprioriGen(H,m+1)\n",
    "  Hmp1=calcConf(freqSet,Hmp1,supportData,brl,minConf)\n",
    " if(len(Hmp1)>1):\n",
    "   rulesFromConseq(freqSet,Hmp1,supportData,brl,minConf)"
   ]
  },
  {
   "cell_type": "code",
   "execution_count": 33,
   "id": "16297358",
   "metadata": {},
   "outputs": [],
   "source": [
    "L,suppData=apriori(dataSet,minSupport=0.6)"
   ]
  },
  {
   "cell_type": "code",
   "execution_count": 34,
   "id": "686b071f",
   "metadata": {},
   "outputs": [
    {
     "name": "stdout",
     "output_type": "stream",
     "text": [
      "frozenset({'E'}) --> frozenset({'K'}) conf: 1.0\n",
      "frozenset({'K'}) --> frozenset({'E'}) conf: 1.0\n",
      "frozenset({'M'}) --> frozenset({'E'}) conf: 1.0\n",
      "frozenset({'M'}) --> frozenset({'K'}) conf: 1.0\n",
      "frozenset({'O'}) --> frozenset({'E'}) conf: 1.0\n",
      "frozenset({'O'}) --> frozenset({'K'}) conf: 1.0\n",
      "frozenset({'Y'}) --> frozenset({'E'}) conf: 1.0\n",
      "frozenset({'Y'}) --> frozenset({'K'}) conf: 1.0\n",
      "frozenset({'Y'}) --> frozenset({'K', 'E'}) conf: 1.0\n",
      "frozenset({'O'}) --> frozenset({'K', 'E'}) conf: 1.0\n",
      "frozenset({'M'}) --> frozenset({'K', 'E'}) conf: 1.0\n",
      "frozenset({'E'}) --> frozenset({'K'}) conf: 1.0\n",
      "frozenset({'K'}) --> frozenset({'E'}) conf: 1.0\n",
      "frozenset({'M'}) --> frozenset({'E'}) conf: 1.0\n",
      "frozenset({'M'}) --> frozenset({'K'}) conf: 1.0\n",
      "frozenset({'O'}) --> frozenset({'E'}) conf: 1.0\n",
      "frozenset({'O'}) --> frozenset({'K'}) conf: 1.0\n",
      "frozenset({'Y'}) --> frozenset({'E'}) conf: 1.0\n",
      "frozenset({'Y'}) --> frozenset({'K'}) conf: 1.0\n",
      "frozenset({'Y'}) --> frozenset({'K', 'E'}) conf: 1.0\n",
      "frozenset({'O'}) --> frozenset({'K', 'E'}) conf: 1.0\n",
      "frozenset({'M'}) --> frozenset({'K', 'E'}) conf: 1.0\n"
     ]
    }
   ],
   "source": [
    "rules = generateRules(L, suppData, minConf=0.7)\n",
    "\n",
    "for rule in rules:\n",
    "    antecedent, consequent, confidence = rule\n",
    "    print(f\"{antecedent} --> {consequent} conf: {confidence}\")"
   ]
  }
 ],
 "metadata": {
  "kernelspec": {
   "display_name": "Python 3 (ipykernel)",
   "language": "python",
   "name": "python3"
  },
  "language_info": {
   "codemirror_mode": {
    "name": "ipython",
    "version": 3
   },
   "file_extension": ".py",
   "mimetype": "text/x-python",
   "name": "python",
   "nbconvert_exporter": "python",
   "pygments_lexer": "ipython3",
   "version": "3.11.3"
  }
 },
 "nbformat": 4,
 "nbformat_minor": 5
}
